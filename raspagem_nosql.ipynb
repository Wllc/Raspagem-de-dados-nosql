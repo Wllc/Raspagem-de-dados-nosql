{
 "cells": [
  {
   "cell_type": "code",
   "execution_count": 413,
   "id": "8549bfd4",
   "metadata": {},
   "outputs": [
    {
     "name": "stdout",
     "output_type": "stream",
     "text": [
      "Collecting pymongo\n",
      "  Downloading pymongo-4.3.2-cp39-cp39-win_amd64.whl (381 kB)\n",
      "Collecting dnspython<3.0.0,>=1.16.0\n",
      "  Downloading dnspython-2.2.1-py3-none-any.whl (269 kB)\n",
      "Installing collected packages: dnspython, pymongo\n",
      "Successfully installed dnspython-2.2.1 pymongo-4.3.2\n"
     ]
    }
   ],
   "source": [
    "#!pip install -U selenium\n",
    "#!pip install webdriver-manager\n",
    "#!pip install pymongo"
   ]
  },
  {
   "cell_type": "code",
   "execution_count": 416,
   "id": "1fe32359",
   "metadata": {},
   "outputs": [],
   "source": [
    "from selenium import webdriver\n",
    "from selenium.webdriver.chrome.service import Service\n",
    "from webdriver_manager.chrome import ChromeDriverManager\n",
    "from selenium.webdriver.support.ui import WebDriverWait\n",
    "from selenium.webdriver.common.by import By\n",
    "\n",
    "import time"
   ]
  },
  {
   "cell_type": "code",
   "execution_count": 417,
   "id": "7dc8f5d4",
   "metadata": {},
   "outputs": [],
   "source": [
    "options = webdriver.ChromeOptions()\n",
    "options.add_argument('headless') # O mais importante, não renderiza parte gráfica\n",
    "options.add_argument('window-size=1920x1080')"
   ]
  },
  {
   "cell_type": "code",
   "execution_count": 418,
   "id": "e4f37231",
   "metadata": {},
   "outputs": [],
   "source": [
    "driver = webdriver.Chrome(service=Service(ChromeDriverManager().install()))"
   ]
  },
  {
   "cell_type": "code",
   "execution_count": 419,
   "id": "a1c27004",
   "metadata": {},
   "outputs": [],
   "source": [
    "def find(driver):\n",
    "    element = driver.find_element(By.TAG_NAME, 'content')\n",
    "    if element:\n",
    "        return element\n",
    "    else:\n",
    "        return False"
   ]
  },
  {
   "cell_type": "code",
   "execution_count": 504,
   "id": "69afb6b4",
   "metadata": {},
   "outputs": [],
   "source": [
    "from selenium.webdriver.common.keys import Keys;\n",
    "\n",
    "def busca(url_1, numPesquisa):\n",
    "    driver.get(url_1);\n",
    "    input_con = driver.find_element(By.XPATH, '//*[@id=\"buscaConcurso\"]');\n",
    "    input_con.clear();\n",
    "    input_con.send_keys(numPesquisa);\n",
    "    input_con.send_keys(Keys.RETURN);\n",
    "\n",
    "    time.sleep(3)\n",
    "    numSort = [];\n",
    "    numSort2 = [];\n",
    "    if(url_1 == 'https://loterias.caixa.gov.br/Paginas/Lotofacil.aspx' or url_1 == 'https://loterias.caixa.gov.br/Paginas/Lotomania.aspx'):\n",
    "        elementos = driver.find_elements(By.XPATH,'//*[@id=\"wp_resultados\"]/div[2]/div/div/div[1]/ul/li');\n",
    "                                                    \n",
    "        numElementos = len(elementos);\n",
    "        for i in range (1, numElementos+1):\n",
    "            numSort.append(driver.find_elements(By.XPATH, '//*[@id=\"wp_resultados\"]/div[2]/div/div/div[1]/ul/li['+str(i)+']')[0].text); \n",
    "        \n",
    "        if(url_1 == 'https://loterias.caixa.gov.br/Paginas/Lotofacil.aspx'):\n",
    "            \n",
    "            if(numPesquisa == 2653):\n",
    "                elementosWins1 = driver.find_elements(By.XPATH,'//*[@id=\"wp_resultados\"]/div[3]/div/p/strong'); \n",
    "                elementosWins2 = driver.find_elements(By.XPATH,'//*[@id=\"wp_resultados\"]/div[3]/div/p/span');\n",
    "                wins = driver.find_element(By.XPATH, '//*[@id=\"wp_resultados\"]/div[3]/div/p[1]/span');\n",
    "            else:\n",
    "                elementosWins1 = driver.find_elements(By.XPATH,'//*[@id=\"wp_resultados\"]/div[3]/div[2]/p/strong'); \n",
    "                elementosWins2 = driver.find_elements(By.XPATH,'//*[@id=\"wp_resultados\"]/div[3]/div[2]/p/span');\n",
    "                wins = driver.find_element(By.XPATH, '//*[@id=\"wp_resultados\"]/div[3]/div[2]/p[1]/span');\n",
    "    \n",
    "        elif(url_1 == 'https://loterias.caixa.gov.br/Paginas/Lotomania.aspx'):   \n",
    "            elementosWins1 = driver.find_elements(By.XPATH,'//*[@id=\"wp_resultados\"]/div[3]/div/p/strong'); \n",
    "            elementosWins2 = driver.find_elements(By.XPATH,'//*[@id=\"wp_resultados\"]/div[3]/div/p/span');\n",
    "            wins = driver.find_element(By.XPATH, '//*[@id=\"wp_resultados\"]/div[3]/div/p[1]/span');        \n",
    "        \n",
    "    elif(url_1 == 'https://loterias.caixa.gov.br/Paginas/Dupla-Sena.aspx'):\n",
    "        elementos = driver.find_elements(By.XPATH,'//*[@id=\"wp_resultados\"]/div[2]/div/div/ul[1]/li');                                                \n",
    "        numElementos = len(elementos);\n",
    "        for i in range (1, numElementos+1):\n",
    "            numSort.append(driver.find_elements(By.XPATH, '//*[@id=\"wp_resultados\"]/div[2]/div/div/ul[1]/li['+str(i)+']')[0].text);\n",
    "            numSort2.append(driver.find_elements(By.XPATH, '//*[@id=\"wp_resultados\"]/div[2]/div/div/ul[2]/li['+str(i)+']')[0].text);\n",
    "        elementosWins1 = driver.find_elements(By.XPATH,'//*[@id=\"wp_resultados\"]/div[3]/div/p/strong'); \n",
    "        elementosWins2 = driver.find_elements(By.XPATH,'//*[@id=\"wp_resultados\"]/div[3]/div/p/span/span[1]');\n",
    "  \n",
    "        elementosWins3 = driver.find_elements(By.XPATH,'//*[@id=\"wp_resultados\"]/div[3]/div/p/strong'); \n",
    "        elementosWins4 = driver.find_elements(By.XPATH,'//*[@id=\"wp_resultados\"]/div[3]/div/p/span/span[1]');\n",
    "        \n",
    "        #excessao\n",
    "        if(numPesquisa == 2438):  \n",
    "            elementosWins1 = driver.find_elements(By.XPATH,'//*[@id=\"wp_resultados\"]/div[3]/div/p/strong'); \n",
    "            elementosWins2 = driver.find_elements(By.XPATH,'//*[@id=\"wp_resultados\"]/div[3]/div/p/span/span[1]');\n",
    "            elementosWins3 = driver.find_elements(By.XPATH,'//*[@id=\"wp_resultados\"]/div[3]/div/p/strong'); \n",
    "            elementosWins4 = driver.find_elements(By.XPATH,'//*[@id=\"wp_resultados\"]/div[3]/div/p/span/span[1]');\n",
    "            wins = driver.find_element(By.XPATH, '//*[@id=\"wp_resultados\"]/div[3]/div/p[1]/span/span[3]');\n",
    "            wins2 = driver.find_element(By.XPATH, '//*[@id=\"wp_resultados\"]/div[3]/div/p[13]/span/span[3]');\n",
    "        else:\n",
    "            elementosWins1 = driver.find_elements(By.XPATH,'//*[@id=\"wp_resultados\"]/div[3]/div[2]/p[1]/strong'); \n",
    "            elementosWins2 = driver.find_elements(By.XPATH,'//*[@id=\"wp_resultados\"]/div[3]/div[2]/p/span/span[1]');\n",
    "            elementosWins3 = driver.find_elements(By.XPATH,'//*[@id=\"wp_resultados\"]/div[3]/div[2]/p/strong');                                                          \n",
    "            elementosWins4 = driver.find_elements(By.XPATH,'//*[@id=\"wp_resultados\"]/div[3]/div[2]/p/span/span[1]');\n",
    "                                                           \n",
    "            wins = driver.find_element(By.XPATH, '//*[@id=\"wp_resultados\"]/div[3]/div/p[1]/span/span[3]');\n",
    "            wins2 = driver.find_element(By.XPATH, '//*[@id=\"wp_resultados\"]/div[3]/div[2]/p[1]/span/span[3]');\n",
    "   \n",
    "    elif(url_1 == 'https://loterias.caixa.gov.br/Paginas/Super-Sete.aspx'):\n",
    "        elementos = driver.find_elements(By.XPATH,'//*[@id=\"ulDezenas\"]/li/div[2]');\n",
    "        numElementos = len(elementos);\n",
    "        for i in range (1, numElementos+1):\n",
    "            numSort.append(driver.find_elements(By.XPATH, '//*[@id=\"ulDezenas\"]/li['+str(i)+']/div[2]')[0].text); \n",
    "        elementosWins1 = driver.find_elements(By.XPATH,'//*[@id=\"wp_resultados\"]/div[3]/div/p/strong');\n",
    "        elementosWins2 = driver.find_elements(By.XPATH,'//*[@id=\"wp_resultados\"]/div[3]/div/p/span[1]');\n",
    "        wins = driver.find_element(By.XPATH, '//*[@id=\"wp_resultados\"]/div[3]/div/p[1]/span[3]');\n",
    "        \n",
    "    elif(url_1 == 'https://loterias.caixa.gov.br/Paginas/Mais-Milionaria.aspx'):\n",
    "        elementos = driver.find_elements(By.XPATH,'//*[@id=\"ulDezenas\"]/li');\n",
    "        numElementos = len(elementos);\n",
    "        for i in range (1, numElementos+1):\n",
    "            numSort.append(driver.find_elements(By.XPATH, '//*[@id=\"ulDezenas\"]/li['+str(i)+']')[0].text); \n",
    "        elementosWins1 = driver.find_elements(By.XPATH,'//*[@id=\"wp_resultados\"]/div[3]/div/p/strong');\n",
    "        elementosWins2 = driver.find_elements(By.XPATH,'//*[@id=\"wp_resultados\"]/div[3]/div/p/span');\n",
    "        wins = driver.find_element(By.XPATH, '//*[@id=\"wp_resultados\"]/div[3]/div/p[1]/span');\n",
    "        \n",
    "    else:    \n",
    "        elementos = driver.find_elements(By.XPATH,'//*[@id=\"ulDezenas\"]/li');\n",
    "        numElementos = len(elementos);\n",
    "        for i in range (1, numElementos+1):\n",
    "            numSort.append(driver.find_elements(By.XPATH, '//*[@id=\"ulDezenas\"]/li['+str(i)+']')[0].text); \n",
    "        elementosWins1 = driver.find_elements(By.XPATH,'//*[@id=\"wp_resultados\"]/div[3]/div/p/strong');\n",
    "        elementosWins2 = driver.find_elements(By.XPATH,'//*[@id=\"wp_resultados\"]/div[3]/div/p/span[1]');\n",
    "        if(url_1 == 'https://loterias.caixa.gov.br/Paginas/Timemania.aspx'):\n",
    "            wins = driver.find_element(By.XPATH, '//*[@id=\"wp_resultados\"]/div[3]/div/p[1]/span[3]');\n",
    "        elif(url_1 == 'https://loterias.caixa.gov.br/Paginas/Dupla-Sena.aspx'):\n",
    "            wins = driver.find_element(By.XPATH, '//*[@id=\"wp_resultados\"]/div[3]/div[2]/p[1]/span/span[3]'); \n",
    "        elif(url_1 == 'https://loterias.caixa.gov.br/Paginas/Dia-de-Sorte.aspx' and numPesquisa == 676):\n",
    "            wins = driver.find_element(By.XPATH, '//*[@id=\"wp_resultados\"]/div[3]/div/p[1]/span[3]');\n",
    "        elif(url_1 == 'https://loterias.caixa.gov.br/Paginas/Quina.aspx'):\n",
    "            wins = driver.find_element(By.XPATH, '//*[@id=\"wp_resultados\"]/div[3]/div/p[1]/span[1]'); \n",
    "        else:\n",
    "            wins = driver.find_element(By.XPATH, '//*[@id=\"wp_resultados\"]/div[3]/div/p[1]/span[2]'); \n",
    "            \n",
    "    \n",
    "    dicio = {str(numPesquisa): str(numSort)};     \n",
    "    #wins foi criado para conseguir pegar o elemento da primeira chave, pois não é possivel pegar no laço abaixo\n",
    "    dicio[elementosWins1[0].text] = wins.text;\n",
    "    \n",
    "    num1 = len(elementosWins1); \n",
    "    if(num1<=11):\n",
    "        if(url_1 == 'https://loterias.caixa.gov.br/Paginas/Dia-de-Sorte.aspx'):\n",
    "            for j in range(1,num1-2):\n",
    "                dicio[elementosWins1[j].text] = elementosWins2[j].text\n",
    "        else:    \n",
    "            for j in range(1,num1-1):\n",
    "                dicio[elementosWins1[j].text] = elementosWins2[j].text\n",
    "    elif(num1==13):\n",
    "        for j in range(1,num1-8):\n",
    "            dicio[elementosWins1[j].text] = elementosWins2[j].text\n",
    "    elif(num1==17):\n",
    "        for j in range(0,num1-13):\n",
    "            dicio[elementosWins1[j].text] = elementosWins2[j].text\n",
    "            \n",
    "    if(url_1 == 'https://loterias.caixa.gov.br/Paginas/Dupla-Sena.aspx'):       \n",
    "        sort2 = []\n",
    "        dicio[\"SORT2\"] = str(numSort2); \n",
    "        dicio[\"sort2 - \"+elementosWins3[0].text] = '2';\n",
    "        num2 = len(elementosWins3);\n",
    "        if(numPesquisa == 2438):\n",
    "            for j in range(0,num2-14):\n",
    "                sort2.append(driver.find_element(By.XPATH,'//*[@id=\"wp_resultados\"]/div[3]/div/p['+str(j+14)+']/span/span[1]'));\n",
    "                dicio[\"sort2 - \"+elementosWins3[j+1].text] = sort2[j].text;\n",
    "        else:\n",
    "            for j in range(1,num2-1):\n",
    "                dicio[\"sort2 - \"+elementosWins3[j].text] = elementosWins4[j].text;\n",
    "    return dicio"
   ]
  },
  {
   "cell_type": "code",
   "execution_count": 513,
   "id": "5b299458",
   "metadata": {},
   "outputs": [],
   "source": [
    "#NÃO FUNCIONA COM SORTEIOS DA 'FEDERAL' E NEM DA 'LOTECA'\n",
    "#INPUTS PARA USUARIO DIGITAR COMENTADOS ABAIXO\n",
    "#url = input(\"Digite a URL: \");\n",
    "#numPesquisa = input(\"Digite o numero de busca: \");\n",
    "#busca(url, numPesquisa)\n",
    "doc_json = busca('https://loterias.caixa.gov.br/Paginas/Mega-Sena.aspx', 2534)\n"
   ]
  },
  {
   "cell_type": "code",
   "execution_count": 512,
   "id": "209fe46c",
   "metadata": {
    "scrolled": true
   },
   "outputs": [
    {
     "data": {
      "text/plain": [
       "<pymongo.results.InsertOneResult at 0xd3d1580>"
      ]
     },
     "execution_count": 512,
     "metadata": {},
     "output_type": "execute_result"
    }
   ],
   "source": [
    "from pymongo import MongoClient\n",
    "\n",
    "client = MongoClient('mongodb://localhost:27017/')\n",
    "db = client.get_database('dbconcursos')\n",
    "collection = db.get_collection('megasena')\n",
    "\n",
    "collection.insert_one(doc_json)"
   ]
  },
  {
   "cell_type": "code",
   "execution_count": 7,
   "id": "7af8e0ab",
   "metadata": {},
   "outputs": [
    {
     "data": {
      "image/png": "[encoded data removed]",
      "text/plain": [
       "<Figure size 432x288 with 1 Axes>"
      ]
     },
     "metadata": {
      "needs_background": "light"
     },
     "output_type": "display_data"
    }
   ],
   "source": [
    "import matplotlib.pyplot as plt\n",
    "import matplotlib.image as mpimg\n",
    "img = mpimg.imread('MongoDB.png')\n",
    "imgplot = plt.imshow(img)\n",
    "plt.show()\n"
   ]
  }
 ],
 "metadata": {
  "kernelspec": {
   "display_name": "Python 3 (ipykernel)",
   "language": "python",
   "name": "python3"
  },
  "language_info": {
   "codemirror_mode": {
    "name": "ipython",
    "version": 3
   },
   "file_extension": ".py",
   "mimetype": "text/x-python",
   "name": "python",
   "nbconvert_exporter": "python",
   "pygments_lexer": "ipython3",
   "version": "3.9.12"
  }
 },
 "nbformat": 4,
 "nbformat_minor": 5
}
